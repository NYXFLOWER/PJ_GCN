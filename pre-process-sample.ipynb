{
 "cells": [
  {
   "cell_type": "markdown",
   "metadata": {},
   "source": [
    "# Pre-Process Decagon Data and Save Using Pickle"
   ]
  },
  {
   "cell_type": "markdown",
   "metadata": {},
   "source": [
    "## 1. Analysis Nodes, Edges, Node Features and Edge Types"
   ]
  },
  {
   "cell_type": "code",
   "execution_count": null,
   "metadata": {},
   "outputs": [],
   "source": [
    "import csv"
   ]
  },
  {
   "cell_type": "code",
   "execution_count": null,
   "metadata": {},
   "outputs": [],
   "source": [
    "# set data paths\n",
    "pp_f = \"data_decagon_sample/bio-decagon-ppi.csv\"\n",
    "dd_f = \"data_decagon_sample/bio-decagon-combo.csv\"\n",
    "dp_f = \"data_decagon_sample/bio-decagon-targets.csv\"\n",
    "ds_f = \"data_decagon_sample/bio-decagon-mono.csv\"\n"
   ]
  },
  {
   "cell_type": "code",
   "execution_count": null,
   "metadata": {},
   "outputs": [],
   "source": [
    "# original data collection holder\n",
    "p_set = set()                 # protein nodes\n",
    "d_set = set()                 # drug nodes\n",
    "combo_set = set()             # edge types\n",
    "mono_set = set()              # additional drug features\n",
    "\n",
    "# read file to list\n",
    "pp_list, ddt_list, dp_list, ds_list = [], [], [], []   # lists of tuples\n",
    "\n",
    "# set temporary variable\n",
    "a, b, c = 0, 0, 0"
   ]
  },
  {
   "cell_type": "markdown",
   "metadata": {},
   "source": [
    "### 1.1 protein-protein association network\n",
    "\n",
    "Includes:\n",
    "\n",
    "- physical interaction\n",
    "- functional associations\n",
    "\n",
    "Notation:\n",
    "\n",
    "- node: protein\n",
    "- edge: association or interaction\n",
    "\n",
    "Number:\n",
    "\n",
    "- 19081 nodes (min: 1; max: 110255169)\n",
    "- 715612 edges"
   ]
  },
  {
   "cell_type": "code",
   "execution_count": null,
   "metadata": {},
   "outputs": [],
   "source": [
    "with open(pp_f, 'r') as f:\n",
    "    ppi = csv.reader(f)\n",
    "    next(ppi)\n",
    "    for [g1, g2] in ppi:\n",
    "        a, b = int(g1), int(g2)\n",
    "        p_set.add(a)\n",
    "        p_set.add(b)\n",
    "        pp_list.append((a, b))\n",
    "print(\"{:d} protein nodes indexed from {:d} to {:d}.\".format(len(p_set), min(p_set), max(p_set)))\n",
    "print(\"{:d} protein-protein edges\".format(len(pp_list)))"
   ]
  },
  {
   "cell_type": "markdown",
   "metadata": {},
   "source": [
    "### 1.2 drug-drug association network with side effects\n",
    "\n",
    "!! TIME COSTY SECTION\n",
    "\n",
    "Notation:\n",
    "\n",
    "- node: drug\n",
    "- edge with typies: type of side effects that are associated with drug pairs\n",
    "\n",
    "Number:\n",
    "\n",
    "- 645 nodes\n",
    "- 63473 edges\n",
    "- 1317 edge types"
   ]
  },
  {
   "cell_type": "code",
   "execution_count": null,
   "metadata": {},
   "outputs": [],
   "source": [
    "with open(\"data_decagon_sample/bio-decagon-combo.csv\", \"r\") as f:\n",
    "    ppi = csv.reader(f)\n",
    "    next(ppi)\n",
    "    for [d1, d2, t, n] in ppi:\n",
    "        a, b, c = int(t.split('C')[-1]), int(d1.split('D')[-1]), int(d2.split('D')[-1])\n",
    "        combo_set.add(a)\n",
    "        d_set.add(b)\n",
    "        d_set.add(c)\n",
    "        ddt_list.append((b, c, a))\n",
    "print(\"{:d} drug nodes indexed from {:d} to {:d}\".format(len(d_set), min(d_set), max(d_set)))\n",
    "print(\"{:d} drug-drug edges with {:d} edge types \".format(len(ddt_list), len(combo_set)))"
   ]
  },
  {
   "cell_type": "markdown",
   "metadata": {},
   "source": [
    "### 1.3 drug-protein association network\n",
    "\n",
    "Notation:\n",
    "\n",
    "- node: drug and genes(encode protein)\n",
    "- edge: gene is targeted by drug\n",
    "\n",
    "Number:\n",
    "\n",
    "- 3932 nodes: 284 drug; 3648 gene\n",
    "- 18690 edges"
   ]
  },
  {
   "cell_type": "code",
   "execution_count": null,
   "metadata": {},
   "outputs": [],
   "source": [
    "with open(\"data_decagon_sample/bio-decagon-targets.csv\", \"r\") as f:\n",
    "    ppi = csv.reader(f)\n",
    "    next(ppi)\n",
    "    for [d, p] in ppi:\n",
    "        a, b = int(d.split('D')[-1]), int(p)\n",
    "        d_set.add(a)\n",
    "        p_set.add(b)\n",
    "        dp_list.append((a, b))\n",
    "print(\"{:d} drug-protein edges\".format(len(dp_list)))\n",
    "print(\"{:d} proteins not in the ppi network\".format(p_set.__len__() - 19081))\n",
    "print(\"{:d} drugs not in the drug-drug network\".format(d_set.__len__() - 645))\n"
   ]
  },
  {
   "cell_type": "markdown",
   "metadata": {},
   "source": [
    "### 1.4 single drug side effects\n",
    "\n",
    "Notation:\n",
    "\n",
    "- node: drug and side-effect\n",
    "- edge: side effect caused by drug\n",
    "\n",
    "Number:\n",
    "\n",
    "- 10825 nodes: 640 drug; 10184 side effect\n",
    "- 174978 edges"
   ]
  },
  {
   "cell_type": "code",
   "execution_count": null,
   "metadata": {},
   "outputs": [],
   "source": [
    "temp = d_set.__len__()\n",
    "with open(\"data_decagon/bio-decagon-mono.csv\", \"r\") as f:\n",
    "    ppi = csv.reader(f)\n",
    "    next(ppi)\n",
    "    for [d, e, n] in ppi:\n",
    "        a, b = int(e.split('C')[-1]), int(d.split('D')[-1])\n",
    "        mono_set.add(a)\n",
    "        d_set.add(b)\n",
    "        ds_list.append((b, a))\n",
    "print(\"{:d} drugs not in the drug-drug network.\"\n",
    "      .format(d_set.__len__() - temp))\n",
    "print(\"{:d} single drug side effects in drug pair side effects set.\"\n",
    "      .format((combo_set & mono_set).__len__()))\n"
   ]
  },
  {
   "cell_type": "code",
   "execution_count": null,
   "metadata": {},
   "outputs": [],
   "source": [
    "# the numbers\n",
    "num_gene = p_set.__len__()\n",
    "num_drug = d_set.__len__()\n",
    "num_edge_type = combo_set.__len__()\n",
    "num_drug_additional_feature = mono_set.__len__()\n",
    "\n",
    "print(\"Summary: \")\n",
    "print(\" -> Protein Node              : {:d}\".format(num_gene))\n",
    "print(\" -> Drug    Node              : {:d}\".format(num_drug))\n",
    "print(\" -> Drug    Pair  Side  Effect: {:d}\".format(num_edge_type))\n",
    "print(\" -> Single  Drug  Side  Effect: {:d}\".format(num_drug_additional_feature))"
   ]
  },
  {
   "cell_type": "markdown",
   "metadata": {},
   "source": [
    "## 2. Index Drug Nodes, Protein Nodes, Drug Additional Features and Drug-Drug Edge Types\n",
    "\n",
    "Note: Using gene presents its encode protein"
   ]
  },
  {
   "cell_type": "code",
   "execution_count": null,
   "metadata": {},
   "outputs": [],
   "source": [
    "import scipy.sparse as sp"
   ]
  },
  {
   "cell_type": "markdown",
   "metadata": {},
   "source": [
    "### Re-indexing Stragy\n",
    "\n",
    "xxx\\_to\\_new is a one-row sparse matrix:\n",
    "\n",
    "- index: real drug/protein/side effect index  \n",
    "- value: its new index \n",
    "\n",
    "xxx\\_to\\_old is a list:\n",
    "\n",
    "- index: the re-allocated index\n",
    "- value: original index\n"
   ]
  },
  {
   "cell_type": "code",
   "execution_count": null,
   "metadata": {},
   "outputs": [],
   "source": [
    "# protein\n",
    "gene_to_old = list(p_set)\n",
    "gene_to_new = sp.csr_matrix((range(num_gene), ([0] * num_gene, gene_to_old)))\n",
    "\n",
    "# drug\n",
    "drug_to_old = list(d_set)\n",
    "drug_to_new = sp.csr_matrix((range(num_drug), ([0] * num_drug, drug_to_old)))\n",
    "\n",
    "# drug pair side effect\n",
    "edge_type_to_old = list(combo_set)\n",
    "edge_type_to_new = sp.csr_matrix((range(num_edge_type), ([0] * num_edge_type, edge_type_to_old)))\n",
    "\n",
    "# single drug side effect\n",
    "side_effect_to_old = list(mono_set)\n",
    "side_effect_to_new = sp.csr_matrix((range(num_drug_additional_feature), ([0] * num_drug_additional_feature, side_effect_to_old)))\n"
   ]
  },
  {
   "cell_type": "markdown",
   "metadata": {},
   "source": [
    "## 3. Construct Sparse Adjacency Matrix"
   ]
  },
  {
   "cell_type": "markdown",
   "metadata": {},
   "source": [
    "### 3.1 gene-gene adjacency matrix\n",
    "\n"
   ]
  },
  {
   "cell_type": "code",
   "execution_count": null,
   "metadata": {},
   "outputs": [],
   "source": [
    "import numpy as np"
   ]
  },
  {
   "cell_type": "code",
   "execution_count": null,
   "metadata": {},
   "outputs": [],
   "source": [
    "# set temporary variable\n",
    "r, c, array_length = [], [], len(pp_list)"
   ]
  },
  {
   "cell_type": "code",
   "execution_count": null,
   "metadata": {},
   "outputs": [],
   "source": [
    "for i in range(array_length):\n",
    "    r.append(gene_to_new[0, pp_list[i][0]])\n",
    "    c.append(gene_to_new[0, pp_list[i][1]])\n",
    "    \n",
    "gene_adj = sp.csr_matrix(([1] * array_length, (r, c)), shape=(num_gene, num_gene))\n",
    "\n",
    "gene_degrees = np.array(gene_adj.sum(axis=0)).squeeze()\n"
   ]
  },
  {
   "cell_type": "markdown",
   "metadata": {},
   "source": [
    "### 3.2 drug-gene & gene-drug adjacency matrix\n"
   ]
  },
  {
   "cell_type": "code",
   "execution_count": null,
   "metadata": {},
   "outputs": [],
   "source": [
    "# set temporary variable\n",
    "r, c, array_length = [], [], len(dp_list)"
   ]
  },
  {
   "cell_type": "code",
   "execution_count": null,
   "metadata": {},
   "outputs": [],
   "source": [
    "for i in range(array_length):\n",
    "    r.append(drug_to_new[0, dp_list[i][0]])\n",
    "    c.append(gene_to_new[0, dp_list[i][1]])\n",
    "\n",
    "drug_gene_adj = sp.csr_matrix(([1] * array_length, (r, c)), shape=(num_drug, num_gene))\n",
    "gene_drug_adj = drug_gene_adj.transpose(copy=True)\n",
    "    "
   ]
  },
  {
   "cell_type": "markdown",
   "metadata": {},
   "source": [
    "### 3.3 drug-drug adjacency matrix list \n",
    "\n",
    "Note: this list is indexed by drug-drug edge type index\n",
    "\n",
    "!! TIME COSTY SECTION"
   ]
  },
  {
   "cell_type": "code",
   "execution_count": null,
   "metadata": {},
   "outputs": [],
   "source": [
    "# set temporary variable\n",
    "# r: key is the index of edge type, value is a list of two lists [drug list, drug list]\n",
    "r = {}        \n",
    "array_length = len(ddt_list)\n"
   ]
  },
  {
   "cell_type": "code",
   "execution_count": null,
   "metadata": {},
   "outputs": [],
   "source": [
    "# build drug-drug network by edge types\n",
    "for i in range(array_length):\n",
    "    c = edge_type_to_new[0, ddt_list[i][2]]\n",
    "    if c not in r:\n",
    "        r[c] = [drug_to_new[0, ddt_list[i][0]]], [drug_to_new[0, ddt_list[i][1]]]\n",
    "    else:\n",
    "        r[c][0].append(drug_to_new[0, ddt_list[i][0]])\n",
    "        r[c][1].append(drug_to_new[0, ddt_list[i][1]])\n",
    "\n",
    "# build adjacency matrix\n",
    "drug_drug_adj_list = []\n",
    "for i in range(num_edge_type):\n",
    "    drug_drug_adj_list.append(sp.csr_matrix(([1] * len(r[i][0]), (r[i][0], r[i][1])), shape=(num_drug, num_drug)))\n",
    "\n",
    "drug_degrees_list = [np.array(drug_adj.sum(axis=0)).squeeze() for drug_adj in drug_drug_adj_list]\n",
    "\n",
    "                "
   ]
  },
  {
   "cell_type": "markdown",
   "metadata": {},
   "source": [
    "## 4. Generate Feature Vector"
   ]
  },
  {
   "cell_type": "markdown",
   "metadata": {},
   "source": [
    "### 4.1 gene one-hot vector"
   ]
  },
  {
   "cell_type": "code",
   "execution_count": null,
   "metadata": {},
   "outputs": [],
   "source": [
    "import decagon.utility.preprocessing as preprocessing"
   ]
  },
  {
   "cell_type": "code",
   "execution_count": null,
   "metadata": {},
   "outputs": [],
   "source": [
    "gene_feat = sp.identity(num_gene)\n",
    "\n",
    "gene_nonzero_feat, gene_num_feat = gene_feat.shape\n",
    "gene_feat = preprocessing.sparse_to_tuple(gene_feat.tocoo())"
   ]
  },
  {
   "cell_type": "markdown",
   "metadata": {},
   "source": [
    "### 4.2 drug feature vector with additional feature"
   ]
  },
  {
   "cell_type": "code",
   "execution_count": null,
   "metadata": {},
   "outputs": [],
   "source": [
    "# index feature\n",
    "r, c = list(range(num_drug)), list(range(num_drug))\n",
    "\n",
    "# additional feature append to index feature\n",
    "for (a, b) in ds_list:\n",
    "    r.append(drug_to_new[0, a])\n",
    "    c.append(side_effect_to_new[0, b] + num_drug)\n",
    "\n",
    "array_length = num_drug + len(ds_list)\n",
    "drug_feat_sparse = sp.csr_matrix(([1] * array_length, (r, c)), shape=(num_drug, num_drug + num_drug_additional_feature))\n",
    "\n",
    "drug_nonzero_feat, drug_num_feat = drug_feat_sparse.shape[1], np.count_nonzero(drug_feat_sparse.sum(axis=0))\n",
    "drug_feat = preprocessing.sparse_to_tuple(drug_feat_sparse.tocoo())\n"
   ]
  },
  {
   "cell_type": "markdown",
   "metadata": {},
   "source": [
    "### 4.3 Visualization of side effects"
   ]
  },
  {
   "cell_type": "code",
   "execution_count": null,
   "metadata": {},
   "outputs": [],
   "source": [
    "from sklearn.manifold import TSNE\n",
    "import matplotlib.pyplot as plt\n",
    "%matplotlib inline\n"
   ]
  },
  {
   "cell_type": "code",
   "execution_count": null,
   "metadata": {},
   "outputs": [],
   "source": [
    "# dimension reduction\n",
    "drug_embedded = TSNE(n_components=2).fit_transform(drug_feat_sparse.toarray())\n"
   ]
  },
  {
   "cell_type": "code",
   "execution_count": null,
   "metadata": {},
   "outputs": [],
   "source": [
    "# random selecting five side effects for visualization\n",
    "np.random.seed(19680801)\n",
    "num_show_edge_index = 4\n",
    "num_show_edge = 60\n",
    "\n",
    "selected_edge_types = np.random.choice(num_edge_type, num_show_edge_index, replace=False)\n",
    "selected_edge_types.tolist()"
   ]
  },
  {
   "cell_type": "code",
   "execution_count": null,
   "metadata": {
    "scrolled": false
   },
   "outputs": [],
   "source": [
    "plt.figure(figsize=(12, 12), dpi= 80, facecolor='w', edgecolor='k')\n",
    "title = \"Drug Embedding Before Training\"\n",
    "col = ['r', 'g', 'b', 'k', 'c', 'm', 'y']\n",
    "\n",
    "plt.scatter(drug_embedded[:, 0], drug_embedded[:, 1], s=6, label='drug')\n",
    "for i in range(num_show_edge_index):\n",
    "    edge = selected_edge_types[i]\n",
    "    r, c = drug_drug_adj_list[edge].nonzero()\n",
    "    \n",
    "    if len(r) > num_show_edge:\n",
    "        selected_drug_pair_index = np.random.choice(len(r), num_show_edge, replace=False).tolist()\n",
    "    else:\n",
    "        selected_drug_pair_index = list(range(len(r)))\n",
    "        \n",
    "    for j in selected_drug_pair_index:\n",
    "        [x1, y1] = drug_embedded[r[j], :]\n",
    "        [x2, y2] = drug_embedded[c[j], :]\n",
    "        \n",
    "        plt.plot([x1, x2], [y1, y2], color=col[i], alpha=0.3, marker='*')\n",
    "    \n",
    "\n",
    "# setting\n",
    "plt.title(title)\n",
    "plt.grid()\n",
    "plt.savefig(\"Drug Embedding before training sample.pdf\")\n",
    "plt.show()"
   ]
  },
  {
   "cell_type": "markdown",
   "metadata": {},
   "source": [
    "## 5. Save to Files"
   ]
  },
  {
   "cell_type": "markdown",
   "metadata": {},
   "source": [
    "### 5.1 save graph infomation"
   ]
  },
  {
   "cell_type": "code",
   "execution_count": null,
   "metadata": {},
   "outputs": [],
   "source": [
    "import pickle"
   ]
  },
  {
   "cell_type": "code",
   "execution_count": null,
   "metadata": {},
   "outputs": [],
   "source": [
    "with open('data_decagon_sample/graph_num_info.pkl', 'wb') as f:\n",
    "    pickle.dump([num_gene, num_drug, num_edge_type, num_drug_additional_feature], f)\n",
    "\n"
   ]
  },
  {
   "cell_type": "markdown",
   "metadata": {},
   "source": [
    "### 5.2 save sparse matrix"
   ]
  },
  {
   "cell_type": "code",
   "execution_count": null,
   "metadata": {},
   "outputs": [],
   "source": [
    "# gene-gene adj\n",
    "sp.save_npz(\"data_decagon_sample/gene-sparse-adj.npz\", gene_adj)\n",
    "\n",
    "# gene-drug adj\n",
    "sp.save_npz(\"data_decagon_sample/drug-gene-sparse-adj.npz\", drug_gene_adj)\n",
    "sp.save_npz(\"data_decagon_sample/gene-drug-sparse-adj.npz\", gene_drug_adj)\n",
    "\n",
    "# drug-drug adj\n",
    "for i in range(num_edge_type):\n",
    "    sp.save_npz(\"\".join([\"data_decagon_sample/drug-sparse-adj/type_\", str(i), \".npz\"]), drug_drug_adj_list[i])\n",
    "    "
   ]
  },
  {
   "cell_type": "markdown",
   "metadata": {},
   "source": [
    "### 5.3 save drug sparse feature vectors"
   ]
  },
  {
   "cell_type": "code",
   "execution_count": null,
   "metadata": {},
   "outputs": [],
   "source": [
    "# drug feature vector\n",
    "sp.save_npz(\"data_decagon_sample/drug-feature-sparse.npz\", drug_feat_sparse)\n"
   ]
  }
 ],
 "metadata": {
  "kernelspec": {
   "display_name": "Python 3",
   "language": "python",
   "name": "python3"
  },
  "language_info": {
   "codemirror_mode": {
    "name": "ipython",
    "version": 3
   },
   "file_extension": ".py",
   "mimetype": "text/x-python",
   "name": "python",
   "nbconvert_exporter": "python",
   "pygments_lexer": "ipython3",
   "version": "3.6.8"
  }
 },
 "nbformat": 4,
 "nbformat_minor": 1
}
