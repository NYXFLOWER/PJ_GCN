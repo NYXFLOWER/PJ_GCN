{
 "cells": [
  {
   "cell_type": "heading",
   "metadata": {},
   "level": 1,
   "source": [
    "Analysis Data Sets"
   ]
  },
  {
   "cell_type": "code",
   "execution_count": 1,
   "metadata": {},
   "outputs": [],
   "source": [
    "p_set = set()\n",
    "d_set = set()\n",
    "combo_set = set()\n",
    "mono_set = set()\n"
   ]
  },
  {
   "cell_type": "code",
   "execution_count": 2,
   "metadata": {
    "collapsed": true
   },
   "outputs": [],
   "source": [
    "import numpy as np\n",
    "import csv"
   ]
  },
  {
   "cell_type": "heading",
   "metadata": {},
   "level": 2,
   "source": [
    "1. Process Protein-Protein Association Network"
   ]
  },
  {
   "cell_type": "markdown",
   "metadata": {},
   "source": [
    "includes:\n",
    "- physical interaction\n",
    "- functional associations\n",
    "\n",
    "Notation:\n",
    "- node: protein\n",
    "- edge: association or interaction\n",
    "\n",
    "Number:\n",
    "- 19081 nodes (min: 1; max: 110255169)\n",
    "- 715612 edges"
   ]
  },
  {
   "cell_type": "code",
   "execution_count": 3,
   "metadata": {},
   "outputs": [],
   "source": [
    "with open(\"data_decagon/PP-Decagon_ppi.csv\", 'r') as f:\n",
    "    ppi = csv.reader(f)\n",
    "    next(ppi)\n",
    "    for [g1, g2] in ppi:\n",
    "        p_set.add(int(g1))\n",
    "        p_set.add(int(g2))\n",
    "    n_edge = ppi.line_num\n"
   ]
  },
  {
   "cell_type": "heading",
   "metadata": {},
   "level": 2,
   "source": [
    "2. Process Drug-Drug Association Network"
   ]
  },
  {
   "cell_type": "markdown",
   "metadata": {},
   "source": [
    "Notation:\n",
    "- node: drug\n",
    "- edge with typies: type of side effects that are associated with drug pairs\n",
    "\n",
    "Number:\n",
    "- 645 nodes\n",
    "- 63473 edges\n",
    "- 1317 edge types"
   ]
  },
  {
   "cell_type": "code",
   "execution_count": 4,
   "metadata": {},
   "outputs": [],
   "source": [
    "with open(\"data_decagon/bio-decagon-combo.csv\", \"r\") as f:\n",
    "    ppi = csv.reader(f)\n",
    "    next(ppi)\n",
    "    for [d1, d2, t, n] in ppi:\n",
    "        combo_set.add(int(t.split('C')[-1]))\n",
    "        d_set.add(int(d1.split('D')[-1]))\n",
    "        d_set.add(int(d2.split('D')[-1]))\n"
   ]
  },
  {
   "cell_type": "heading",
   "metadata": {},
   "level": 2,
   "source": [
    "3. Process Drug-Protein Association Network"
   ]
  },
  {
   "cell_type": "markdown",
   "metadata": {},
   "source": [
    "Notation:\n",
    "- node: drug and genes(encode protein)\n",
    "- edge: gene is targeted by drug\n",
    "\n",
    "Number:\n",
    "- 3932 nodes: 284 drug; 3648 gene\n",
    "- 18690 edges"
   ]
  },
  {
   "cell_type": "code",
   "execution_count": 5,
   "metadata": {},
   "outputs": [
    {
     "name": "stdout",
     "output_type": "stream",
     "text": [
      "There are 8 proteins not in the ppi network.\nThere are 0 drugs not in the drug-drug network.\n"
     ]
    }
   ],
   "source": [
    "with open(\"data_decagon/bio-decagon-targets.csv\", \"r\") as f:\n",
    "    ppi = csv.reader(f)\n",
    "    next(ppi)\n",
    "    for [d, p] in ppi:\n",
    "        d_set.add(int(d.split('D')[-1]))\n",
    "        p_set.add(int(p))\n",
    "print(\"There are {:d} proteins not in the ppi network.\"\n",
    "      .format(p_set.__len__() - 19081))\n",
    "print(\"There are {:d} drugs not in the drug-drug network.\"\n",
    "      .format(d_set.__len__() - 645))\n"
   ]
  },
  {
   "cell_type": "heading",
   "metadata": {},
   "level": 2,
   "source": [
    "4. Process Drug-SideEffect Association Network"
   ]
  },
  {
   "cell_type": "markdown",
   "metadata": {},
   "source": [
    "Notation:\n",
    "- node: drug and side-effect\n",
    "- edge: side effect caused by drug\n",
    "\n",
    "Number:\n",
    "- 10825 nodes: 640 drug; 10184 side effect\n",
    "- 174978 edges"
   ]
  },
  {
   "cell_type": "code",
   "execution_count": 6,
   "metadata": {},
   "outputs": [
    {
     "name": "stdout",
     "output_type": "stream",
     "text": [
      "There are 0 drugs not in the drug-drug network.\nThere are 0 side effects in both mono set and combo set.\n"
     ]
    }
   ],
   "source": [
    "temp = d_set.__len__()\n",
    "with open(\"data_decagon/bio-decagon-mono.csv\", \"r\") as f:\n",
    "    ppi = csv.reader(f)\n",
    "    next(ppi)\n",
    "    for [d, e, n] in ppi:\n",
    "        mono_set.add(int(e.split('C')[-1]))\n",
    "        d_set.add(int(d.split('D')[-1]))\n",
    "print(\"There are {:d} drugs not in the drug-drug network.\"\n",
    "      .format(d_set.__len__() - temp))\n",
    "print(\"There are {:d} side effects in both mono set and combo set.\"\n",
    "      .format((combo_set & mono_set).__len__()))\n"
   ]
  },
  {
   "cell_type": "code",
   "execution_count": 7,
   "metadata": {},
   "outputs": [
    {
     "name": "stdout",
     "output_type": "stream",
     "text": [
      "Summary: \n -> Protein Node:                  19089\n -> Drug    Node:                    645\n -> Drug    Pair  Side  Effect:    10184\n -> Single  Drug  Side  Effect:     1317\n"
     ]
    }
   ],
   "source": [
    "print(\"Summary: \")\n",
    "print(\" -> Protein Node:               {:8d}\".format(p_set.__len__()))\n",
    "print(\" -> Drug    Node:               {:8d}\".format(d_set.__len__()))\n",
    "print(\" -> Drug    Pair  Side  Effect: {:8d}\".format(mono_set.__len__()))\n",
    "print(\" -> Single  Drug  Side  Effect: {:8d}\".format(combo_set.__len__()))"
   ]
  },
  {
   "cell_type": "code",
   "execution_count": 25,
   "metadata": {},
   "outputs": [
    {
     "data": {
      "text/plain": [
       "array([     1,      2, 131076, ...,  26049,  26050,   6512])"
      ]
     },
     "execution_count": 25,
     "metadata": {},
     "output_type": "execute_result"
    }
   ],
   "source": [
    ""
   ]
  },
  {
   "cell_type": "markdown",
   "metadata": {},
   "source": []
  },
  {
   "cell_type": "markdown",
   "metadata": {},
   "source": [
    ""
   ]
  }
 ],
 "metadata": {
  "kernelspec": {
   "display_name": "Python 2",
   "language": "python",
   "name": "python2"
  },
  "language_info": {
   "codemirror_mode": {
    "name": "ipython",
    "version": 2
   },
   "file_extension": ".py",
   "mimetype": "text/x-python",
   "name": "python",
   "nbconvert_exporter": "python",
   "pygments_lexer": "ipython2",
   "version": "2.7.6"
  }
 },
 "nbformat": 4,
 "nbformat_minor": 0
}
