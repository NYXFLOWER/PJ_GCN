{
  "cells": [
    {
      "cell_type": "code",
      "execution_count": null,
      "metadata": {
        "collapsed": true,
        "pycharm": {}
      },
      "outputs": [],
      "source": "# Construct Decagon Dataset for Result Reproduction\n## 1. Polypharmacy Side Effect Reduction\n "
    },
    {
      "cell_type": "code",
      "execution_count": 7,
      "outputs": [],
      "source": "import pickle\nimport scipy.sparse as sp\nimport numpy as np\n",
      "metadata": {
        "pycharm": {
          "metadata": false,
          "name": "#%%\n",
          "is_executing": false
        }
      }
    },
    {
      "cell_type": "code",
      "execution_count": 3,
      "outputs": [],
      "source": "# load graph info\nwith open(\u0027./data_decagon/graph_num_info.pkl\u0027, \u0027rb\u0027) as f:\n    [num_gene, num_drug, num_edge_type, num_drug_additional_feature] \u003d pickle.load(f)\n",
      "metadata": {
        "pycharm": {
          "metadata": false,
          "name": "#%%\n",
          "is_executing": false
        }
      }
    },
    {
      "cell_type": "code",
      "execution_count": 24,
      "outputs": [
        {
          "name": "stdout",
          "text": [
            "1317\n"
          ],
          "output_type": "stream"
        }
      ],
      "source": "# load d-d edge index\nwith open(\u0027./data_decagon/edge_type_to_old.pkl\u0027, \u0027rb\u0027) as f:\n    dd_index \u003d pickle.load(f)\n    print(len(dd_index))\n",
      "metadata": {
        "pycharm": {
          "metadata": false,
          "name": "#%%\n",
          "is_executing": false
        }
      }
    },
    {
      "cell_type": "code",
      "execution_count": 45,
      "outputs": [
        {
          "name": "stdout",
          "text": [
            "The number of training samples are  400.0\n",
            "963\n"
          ],
          "output_type": "stream"
        }
      ],
      "source": "# remove the edge types whose training samples less than 50\nn \u003d 500\n\ndd_new \u003d dd_index.copy()\ndrug_drug_adj_list \u003d []\nfor i in range(num_edge_type):\n    dd \u003d sp.load_npz(\"\".join([\"./data_decagon/drug-sparse-adj/type_\", str(i), \".npz\"]))\n    if dd.size \u003c\u003d n:\n        dd_new.remove(dd_index[i])\n    else:\n        drug_drug_adj_list.append(dd)\nprint(len(dd_new))\n    ",
      "metadata": {
        "pycharm": {
          "metadata": false,
          "name": "#%%\n",
          "is_executing": false
        }
      }
    },
    {
      "cell_type": "code",
      "execution_count": 46,
      "outputs": [
        {
          "data": {
            "text/plain": "963"
          },
          "metadata": {},
          "output_type": "execute_result",
          "execution_count": 46
        }
      ],
      "source": "len(drug_drug_adj_list)\n",
      "metadata": {
        "pycharm": {
          "metadata": false,
          "name": "#%%\n",
          "is_executing": false
        }
      }
    }
  ],
  "metadata": {
    "language_info": {
      "codemirror_mode": {
        "name": "ipython",
        "version": 2
      },
      "file_extension": ".py",
      "mimetype": "text/x-python",
      "name": "python",
      "nbconvert_exporter": "python",
      "pygments_lexer": "ipython2",
      "version": "2.7.6"
    },
    "kernelspec": {
      "name": "pycharm-2dc171ac",
      "language": "python",
      "display_name": "PyCharm (PJ_GCN)"
    }
  },
  "nbformat": 4,
  "nbformat_minor": 0
}