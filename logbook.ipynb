{
  "cells": [
    {
      "cell_type": "markdown",
      "metadata": {
        "collapsed": true,
        "pycharm": {
          "name": "#%% md\n"
        }
      },
      "source": "# The project logbook"
    },
    {
      "cell_type": "markdown",
      "source": "## On Tue 21 May\n1. Train and test decagon model with 6 polypharmacy side effects indexed from 0 to 5\n    - epoch: 1\n    - train / test / validation: 60% / 20% positive \u0026 20% negative / 20% positive \u0026 20% negative\n    - result: [6-1-order.txt](output_files/6-1-order.txt)\n    \n2. Construct mini-batch for 80% / 10% / 10% with the whole dataset\n    \n    Bug: empty train edges list for some edge types\n    \n    Reason: when constructing mini-batch, they set the minimum of both testing and validation edge number as 50. To be detailed, when edge number is less than 100, this edge type has no training edge.\n           ",
      "metadata": {
        "pycharm": {
          "metadata": false
        }
      }
    },
    {
      "cell_type": "markdown",
      "source": "## On Wed 22 May\n1. Fix the bug and reconstruct the mini-batch\n\n2. __The construction of mini-batch can be paralleled or distributed given a fixed random seed.__\n",
      "metadata": {
        "pycharm": {
          "metadata": false
        }
      }
    }
  ],
  "metadata": {
    "language_info": {
      "codemirror_mode": {
        "name": "ipython",
        "version": 2
      },
      "file_extension": ".py",
      "mimetype": "text/x-python",
      "name": "python",
      "nbconvert_exporter": "python",
      "pygments_lexer": "ipython2",
      "version": "2.7.6"
    },
    "kernelspec": {
      "name": "python3",
      "language": "python",
      "display_name": "Python 3"
    }
  },
  "nbformat": 4,
  "nbformat_minor": 0
}