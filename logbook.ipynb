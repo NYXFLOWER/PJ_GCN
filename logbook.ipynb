{
 "cells": [
  {
   "cell_type": "markdown",
   "metadata": {
    "collapsed": true,
    "pycharm": {
     "name": "#%% md\n"
    }
   },
   "source": [
    "# The project logbook"
   ]
  },
  {
   "cell_type": "markdown",
   "metadata": {
    "pycharm": {
     "metadata": false
    }
   },
   "source": [
    "## Tue 21 May\n",
    "1. Train and test decagon model with 6 polypharmacy side effects indexed from 0 to 5\n",
    "    - epoch: 1\n",
    "    - train / test / validation: 60% / 20% positive & 20% negative / 20% positive & 20% negative\n",
    "    - result: [6-1-order.txt](output_files/6-1-order.txt)\n",
    "    \n",
    "2. Construct mini-batch for 80% / 10% / 10% with the whole dataset\n",
    "    \n",
    "    Bug: empty train edges list for some edge types\n",
    "    \n",
    "    Reason: when constructing mini-batch, they set the minimum of both testing and validation edge number as 50. To be detailed, when edge number is less than 100, this edge type has no training edge.\n",
    "           "
   ]
  },
  {
   "cell_type": "markdown",
   "metadata": {
    "pycharm": {
     "metadata": false
    }
   },
   "source": [
    "## Wed 22 May\n",
    "1. Fix the bug and reconstruct the mini-batch\n",
    "\n",
    "2. __The construction of mini-batch can be paralleled or distributed given a fixed random seed.__\n"
   ]
  },
  {
   "cell_type": "markdown",
   "metadata": {
    "pycharm": {
     "metadata": false,
     "name": "#%% md\n"
    }
   },
   "source": [
    "## Thu 23 May\n",
    "1. Add feature -> training the selected edge types given a list of edge type indices.\n",
    "\n",
    "2. submit jobs -> training ordered 6 edge types\n",
    "    - epoch: 1, 10, 30, 60, 100\n",
    "    - train / test / validation: 80% / 10% positive & 10% negative / 10% positive & 10% negative\n",
    "    - result: [6-ordered](result/1-10-30-60-100ep-6ordered) with [tables and figures](result/1-10-30-60-100ep-6ordered.xlsx)\n",
    "    - time cost: 28h\n",
    "    "
   ]
  },
  {
   "cell_type": "markdown",
   "metadata": {
    "pycharm": {
     "metadata": false,
     "name": "#%% md\n"
    }
   },
   "source": [
    "## Sun 26 May\n",
    "1. submit jobs -> training ordered 12 edge types\n",
    "    - epoch: 1, 10, 30, 60, 100\n",
    "    - train / test / validation: 80% / 10% positive & 10% negative / 10% positive & 10% negative\n",
    "    - result: [12-ordered](result/12) with [tables and figures](result/1-10-30-60-100ep-6ordered.xlsx)\n",
    "    - time cost: 29h\n",
    "\n",
    "\n"
   ]
  },
  {
   "cell_type": "markdown",
   "metadata": {
    "pycharm": {}
   },
   "source": [
    "## Tue 28 May\n",
    "\n",
    "1. submit jobs -> training ordered 18 edge types\n",
    "    - epoch: 1, 10, 30, 60, 100\n",
    "    - train / test / validation: 80% / 10% positive & 10% negative / 10% positive & 10% negative\n",
    "    - result: [18-ordered](result/) with [tables and figures](result/1-10-30-60-100ep-6ordered.xlsx)\n",
    "    - time cost: 96h+\n",
    "    - this job hasnot finished due to the maximum time limination, stop at the 83 epoch."
   ]
  },
  {
   "cell_type": "markdown",
   "metadata": {
    "pycharm": {}
   },
   "source": [
    "## Tue 30 May\n",
    "\n",
    "1. get the index list of the top 6 best and worst performance side effects in Decagon (reported in their paper)\n",
    "\n",
    "2. submit jobs -> training top 6 best performance edge types\n",
    "    - epoch: 1, 10, 30, 60, 100\n",
    "    - train / test / validation: 80% / 10% positive & 10% negative / 10% positive & 10% negative\n",
    "    - result: [6-best](result/) with [tables and figures](result/1-10-30-60-100ep-6ordered.xlsx)\n",
    "    - time cost: 79h\n",
    "    \n",
    "3. submit jobs -> training top 6 worst performance edge types\n",
    "    - epoch: 1, 10, 30, 60, 100\n",
    "    - train / test / validation: 80% / 10% positive & 10% negative / 10% positive & 10% negative\n",
    "    - result: [6-worst](result/) with [tables and figures](result/1-10-30-60-100ep-6ordered.xlsx)\n",
    "    - time cost: has not finished..."
   ]
  },
  {
   "cell_type": "markdown",
   "metadata": {
    "pycharm": {
     "name": "#%% md\n"
    }
   },
   "source": [
    "## Fri 31 May\n",
    "1. The result of predicting (d_i, r, d_j) and (d_j, r, d_i) is different, because the training data for them are different. Why do this?\n",
    "    \n",
    "2. In their code, to prediction the accuracy at point 50, they forcely fix a minimum size of 50 for test and validation data set, such that many training datasets are empty.\n",
    "    \n",
    "    \n"
   ]
  },
  {
   "cell_type": "markdown",
   "metadata": {},
   "source": []
  }
 ],
 "metadata": {
  "kernelspec": {
   "display_name": "Python 3",
   "language": "python",
   "name": "python3"
  },
  "language_info": {
   "codemirror_mode": {
    "name": "ipython",
    "version": 3
   },
   "file_extension": ".py",
   "mimetype": "text/x-python",
   "name": "python",
   "nbconvert_exporter": "python",
   "pygments_lexer": "ipython3",
   "version": "3.6.8"
  }
 },
 "nbformat": 4,
 "nbformat_minor": 1
}
