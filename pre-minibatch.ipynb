{
  "cells": [
    {
      "cell_type": "code",
      "execution_count": 2,
      "metadata": {
        "collapsed": true,
        "pycharm": {
          "is_executing": false
        }
      },
      "outputs": [],
      "source": "from process_data import DecagonData\nimport pickle\n"
    },
    {
      "cell_type": "markdown",
      "source": "## Load data Info\n    ",
      "metadata": {
        "pycharm": {
          "metadata": false,
          "name": "#%% md\n"
        }
      }
    },
    {
      "cell_type": "code",
      "execution_count": 3,
      "outputs": [
        {
          "name": "stdout",
          "text": [
            "loading...\n"
          ],
          "output_type": "stream"
        },
        {
          "traceback": [
            "\u001b[0;31m---------------------------------------------------------------------------\u001b[0m",
            "\u001b[0;31mFileNotFoundError\u001b[0m                         Traceback (most recent call last)",
            "\u001b[0;32m\u003cipython-input-3-bfd4ad9a28d1\u003e\u001b[0m in \u001b[0;36m\u003cmodule\u003e\u001b[0;34m\u001b[0m\n\u001b[0;32m----\u003e 1\u001b[0;31m \u001b[0mdecagon\u001b[0m \u001b[0;34m\u003d\u001b[0m \u001b[0mDecagonData\u001b[0m\u001b[0;34m(\u001b[0m\u001b[0;34m)\u001b[0m\u001b[0;34m\u001b[0m\u001b[0;34m\u001b[0m\u001b[0m\n\u001b[0m\u001b[1;32m      2\u001b[0m \u001b[0;34m\u001b[0m\u001b[0m\n",
            "\u001b[0;32m~/Docu/PJ_GCN/process_data.py\u001b[0m in \u001b[0;36m__init__\u001b[0;34m(self, temp, num)\u001b[0m\n\u001b[1;32m     12\u001b[0m         \u001b[0mprint\u001b[0m\u001b[0;34m(\u001b[0m\u001b[0;34m\"loading...\"\u001b[0m\u001b[0;34m)\u001b[0m\u001b[0;34m\u001b[0m\u001b[0;34m\u001b[0m\u001b[0m\n\u001b[1;32m     13\u001b[0m \u001b[0;34m\u001b[0m\u001b[0m\n\u001b[0;32m---\u003e 14\u001b[0;31m         \u001b[0;32mwith\u001b[0m \u001b[0mopen\u001b[0m\u001b[0;34m(\u001b[0m\u001b[0mtemp\u001b[0m \u001b[0;34m+\u001b[0m \u001b[0;34m\u0027data_decagon/graph_num_info.pkl\u0027\u001b[0m\u001b[0;34m,\u001b[0m \u001b[0;34m\u0027rb\u0027\u001b[0m\u001b[0;34m)\u001b[0m \u001b[0;32mas\u001b[0m \u001b[0mf\u001b[0m\u001b[0;34m:\u001b[0m\u001b[0;34m\u001b[0m\u001b[0;34m\u001b[0m\u001b[0m\n\u001b[0m\u001b[1;32m     15\u001b[0m             \u001b[0;34m[\u001b[0m\u001b[0mnum_gene\u001b[0m\u001b[0;34m,\u001b[0m \u001b[0mnum_drug\u001b[0m\u001b[0;34m,\u001b[0m \u001b[0mnum_edge_type\u001b[0m\u001b[0;34m,\u001b[0m \u001b[0mnum_drug_additional_feature\u001b[0m\u001b[0;34m]\u001b[0m \u001b[0;34m\u003d\u001b[0m \u001b[0mpickle\u001b[0m\u001b[0;34m.\u001b[0m\u001b[0mload\u001b[0m\u001b[0;34m(\u001b[0m\u001b[0mf\u001b[0m\u001b[0;34m)\u001b[0m\u001b[0;34m\u001b[0m\u001b[0;34m\u001b[0m\u001b[0m\n\u001b[1;32m     16\u001b[0m \u001b[0;34m\u001b[0m\u001b[0m\n",
            "\u001b[0;31mFileNotFoundError\u001b[0m: [Errno 2] No such file or directory: \u0027/home/acq18hx/decagon/data_decagon/graph_num_info.pkl\u0027"
          ],
          "ename": "FileNotFoundError",
          "evalue": "[Errno 2] No such file or directory: \u0027/home/acq18hx/decagon/data_decagon/graph_num_info.pkl\u0027",
          "output_type": "error"
        }
      ],
      "source": "decagon \u003d DecagonData()\n",
      "metadata": {
        "pycharm": {
          "metadata": false,
          "name": "#%%\n",
          "is_executing": false
        }
      }
    },
    {
      "cell_type": "markdown",
      "source": "## Minibatch Info",
      "metadata": {
        "pycharm": {
          "metadata": false
        }
      }
    },
    {
      "cell_type": "code",
      "execution_count": 4,
      "outputs": [],
      "source": "dir \u003d \"new_\"\nwith open(dir + \"adj_train.pkl\", \"rb\") as pk:\n    unpickler \u003d pickle.Unpickler(pk)\n    adj_train \u003d unpickler.load()\n\nwith open(dir + \"train_edges.pkl\", \"rb\") as pk:\n    unpickler \u003d pickle.Unpickler(pk)\n    train_edges \u003d unpickler.load()\n    \nwith open(dir + \"val_edges.pkl\", \"rb\") as pk:\n    unpickler \u003d pickle.Unpickler(pk)\n    val_edges \u003d unpickler.load()\n    \nwith open(dir + \"test_edges.pkl\", \"rb\") as pk:\n    unpickler \u003d pickle.Unpickler(pk)\n    test_edges \u003d unpickler.load()\n    \nwith open(dir + \"test_edges_false.pkl\", \"rb\") as pk:\n    unpickler \u003d pickle.Unpickler(pk)\n    test_edges_false \u003d unpickler.load()\n    \nwith open(dir + \"val_edges_false.pkl\", \"rb\") as pk:\n    unpickler \u003d pickle.Unpickler(pk)\n    val_edges_false \u003d unpickler.load()\n    ",
      "metadata": {
        "pycharm": {
          "metadata": false,
          "name": "#%%\n",
          "is_executing": false
        }
      }
    },
    {
      "cell_type": "markdown",
      "source": "## Mini-batch analysis",
      "metadata": {
        "pycharm": {
          "metadata": false,
          "name": "#%% md\n"
        }
      }
    },
    {
      "cell_type": "code",
      "execution_count": 19,
      "outputs": [
        {
          "name": "stdout",
          "text": [
            "edge number:  [11142, 1013, 1084, 1176, 1021, 148, 11142, 1013, 1084, 1176, 1021, 148]\ntrain edge number:  [6686, 609, 652, 706, 613, 48, 6686, 609, 652, 706, 613, 48]\ntest edge number:  [2228, 202, 216, 235, 204, 50, 2228, 202, 216, 235, 204, 50]\ntest edge false number:  [2228, 202, 216, 235, 204, 50, 2228, 202, 216, 235, 204, 50]\nval edge number:  [2228, 202, 216, 235, 204, 50, 2228, 202, 216, 235, 204, 50]\nval edge false number:  [2228, 202, 216, 235, 204, 50, 2228, 202, 216, 235, 204, 50]\n"
          ],
          "output_type": "stream"
        }
      ],
      "source": "edge_num \u003d [decagon.adj_mats_orig[(1, 1)][i].nnz for i in range(12)]\ntrain_edge_num \u003d [train_edges[(1, 1)][i].shape[0] for i in range(12)]\ntest_edges_num \u003d [test_edges[(1, 1)][i].shape[0] for i in range(12)]\ntest_edges_false_num \u003d [test_edges_false[(1, 1)][i].shape[0] for i in range(12)]\nval_edges_num \u003d [val_edges[(1, 1)][i].shape[0] for i in range(12)]\nval_edges_false_num \u003d [val_edges_false[(1, 1)][i].shape[0] for i in range(12)]\n\nprint(\"edge number: \", edge_num)\nprint(\"train edge number: \", train_edge_num)\nprint(\"test edge number: \", test_edges_num)\nprint(\"test edge false number: \", test_edges_false_num)\nprint(\"val edge number: \", val_edges_num)\nprint(\"val edge false number: \", val_edges_false_num)\n",
      "metadata": {
        "pycharm": {
          "metadata": false,
          "name": "#%%\n",
          "is_executing": false
        }
      }
    },
    {
      "cell_type": "code",
      "execution_count": 5,
      "outputs": [],
      "source": "dir \u003d \"mini_dir/mini/\"\nwith open(dir + \"adj_train.pkl\", \"rb\") as pk:\n    unpickler \u003d pickle.Unpickler(pk)\n    adj_train1 \u003d unpickler.load()\n\nwith open(dir + \"train_edges.pkl\", \"rb\") as pk:\n    unpickler \u003d pickle.Unpickler(pk)\n    train_edges1 \u003d unpickler.load()\n    \nwith open(dir + \"val_edges.pkl\", \"rb\") as pk:\n    unpickler \u003d pickle.Unpickler(pk)\n    val_edges1 \u003d unpickler.load()\n    \nwith open(dir + \"test_edges.pkl\", \"rb\") as pk:\n    unpickler \u003d pickle.Unpickler(pk)\n    test_edges1 \u003d unpickler.load()\n    \nwith open(dir + \"test_edges_false.pkl\", \"rb\") as pk:\n    unpickler \u003d pickle.Unpickler(pk)\n    test_edges_false1 \u003d unpickler.load()\n    \nwith open(dir + \"val_edges_false.pkl\", \"rb\") as pk:\n    unpickler \u003d pickle.Unpickler(pk)\n    val_edges_false1 \u003d unpickler.load()\n    \n    ",
      "metadata": {
        "pycharm": {
          "metadata": false,
          "name": "#%%\n",
          "is_executing": false
        }
      }
    },
    {
      "cell_type": "code",
      "execution_count": 6,
      "outputs": [],
      "source": "adj_train[(0, 0)] \u003d adj_train1[(0, 0)]\nadj_train[(1, 0)] \u003d adj_train1[(1, 0)]\nadj_train[(0, 1)] \u003d adj_train1[(0, 1)]\n",
      "metadata": {
        "pycharm": {
          "metadata": false,
          "name": "#%%\n",
          "is_executing": false
        }
      }
    },
    {
      "cell_type": "code",
      "execution_count": 7,
      "outputs": [],
      "source": "temp \u003d \"full_\"\nwith open(temp + \"adj_train.pkl\", \"wb\") as pk:\n    pickle.dump(adj_train, pk)\n    ",
      "metadata": {
        "pycharm": {
          "metadata": false,
          "name": "#%%\n",
          "is_executing": false
        }
      }
    },
    {
      "cell_type": "code",
      "execution_count": 8,
      "outputs": [],
      "source": "test_edges[(0, 0)] \u003d test_edges1[(0, 0)]\ntest_edges[(1, 0)] \u003d test_edges1[(1, 0)]\ntest_edges[(0, 1)] \u003d test_edges1[(0, 1)]\n\ntemp \u003d \"full_\"\nwith open(temp + \"test_edges.pkl\", \"wb\") as pk:\n    pickle.dump(test_edges, pk)\n    ",
      "metadata": {
        "pycharm": {
          "metadata": false,
          "name": "#%%\n",
          "is_executing": false
        }
      }
    },
    {
      "cell_type": "code",
      "execution_count": 9,
      "outputs": [],
      "source": "test_edges_false[(0, 0)] \u003d test_edges_false1[(0, 0)]\ntest_edges_false[(1, 0)] \u003d test_edges_false1[(1, 0)]\ntest_edges_false[(0, 1)] \u003d test_edges_false1[(0, 1)]\n\ntemp \u003d \"full_\"\nwith open(temp + \"test_edges_false.pkl\", \"wb\") as pk:\n    pickle.dump(test_edges_false, pk)",
      "metadata": {
        "pycharm": {
          "metadata": false,
          "name": "#%%\n",
          "is_executing": false
        }
      }
    },
    {
      "cell_type": "code",
      "execution_count": 10,
      "outputs": [],
      "source": "val_edges_false[(0, 0)] \u003d val_edges_false1[(0, 0)]\nval_edges_false[(1, 0)] \u003d val_edges_false1[(1, 0)]\nval_edges_false[(0, 1)] \u003d val_edges_false1[(0, 1)]\n\ntemp \u003d \"full_\"\nwith open(temp + \"val_edges_false.pkl\", \"wb\") as pk:\n    pickle.dump(val_edges_false, pk)",
      "metadata": {
        "pycharm": {
          "metadata": false,
          "name": "#%%\n",
          "is_executing": false
        }
      }
    },
    {
      "cell_type": "code",
      "execution_count": 11,
      "outputs": [],
      "source": "val_edges[(0, 0)] \u003d val_edges1[(0, 0)]\nval_edges[(1, 0)] \u003d val_edges1[(1, 0)]\nval_edges[(0, 1)] \u003d val_edges1[(0, 1)]\n\ntemp \u003d \"full_\"\nwith open(temp + \"val_edges.pkl\", \"wb\") as pk:\n    pickle.dump(val_edges, pk)",
      "metadata": {
        "pycharm": {
          "metadata": false,
          "name": "#%%\n",
          "is_executing": false
        }
      }
    },
    {
      "cell_type": "code",
      "execution_count": 12,
      "outputs": [],
      "source": "train_edges[(0, 0)] \u003d train_edges1[(0, 0)]\ntrain_edges[(1, 0)] \u003d train_edges1[(1, 0)]\ntrain_edges[(0, 1)] \u003d train_edges1[(0, 1)]\n\ntemp \u003d \"full_\"\nwith open(temp + \"train_edges.pkl\", \"wb\") as pk:\n    pickle.dump(train_edges, pk)\n",
      "metadata": {
        "pycharm": {
          "metadata": false,
          "name": "#%%\n",
          "is_executing": false
        }
      }
    }
  ],
  "metadata": {
    "kernelspec": {
      "name": "pycharm-2dc171ac",
      "language": "python",
      "display_name": "PyCharm (PJ_GCN)"
    },
    "language_info": {
      "codemirror_mode": {
        "name": "ipython",
        "version": 2
      },
      "file_extension": ".py",
      "mimetype": "text/x-python",
      "name": "python",
      "nbconvert_exporter": "python",
      "pygments_lexer": "ipython2",
      "version": "2.7.6"
    }
  },
  "nbformat": 4,
  "nbformat_minor": 0
}