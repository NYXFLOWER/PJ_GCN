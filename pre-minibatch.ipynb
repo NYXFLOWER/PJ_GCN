{
  "cells": [
    {
      "cell_type": "code",
      "execution_count": 7,
      "metadata": {
        "collapsed": true,
        "pycharm": {
          "is_executing": false
        }
      },
      "outputs": [],
      "source": "from process_data import DecagonData\nimport pickle\n"
    },
    {
      "cell_type": "code",
      "execution_count": 6,
      "outputs": [
        {
          "name": "stdout",
          "text": [
            "loading...\nload gene_gene finished!\nload gene_drug finished!\nload drug_drug finished!\nload drug_feature finished!\nEdge types: 16\n\u003d\u003d\u003d\u003d\u003d\u003d\u003d\u003d\u003d\u003d\u003d\u003d\u003d\u003d\u003d\u003d\u003d\u003d\u003d\u003d\u003d\u003d\u003d\u003d\u003d\u003d\u003d\u003d\u003d\u003d\u003d\u003d\u003d\u003d\u003d\u003d\u003d\u003d\u003d\u003d\u003d\u003d\u003d\u003d\u003d\u003d\u003d\u003d\u003d\u003d\u003d\u003d\u003d\u003d\n"
          ],
          "output_type": "stream"
        }
      ],
      "source": "decagon \u003d DecagonData()\n",
      "metadata": {
        "pycharm": {
          "metadata": false,
          "name": "#%%\n",
          "is_executing": false
        }
      }
    },
    {
      "cell_type": "markdown",
      "source": "## Compare between mini-batch",
      "metadata": {
        "pycharm": {
          "metadata": false
        }
      }
    },
    {
      "cell_type": "code",
      "execution_count": 10,
      "outputs": [],
      "source": "dir \u003d \"mini_dir/mini_6_order/\"\nwith open(dir + \"adj_train.pkl\", \"rb\") as pk:\n    unpickler \u003d pickle.Unpickler(pk)\n    adj_train \u003d unpickler.load()\n\nwith open(dir + \"train_edges.pkl\", \"rb\") as pk:\n    unpickler \u003d pickle.Unpickler(pk)\n    train_edges \u003d unpickler.load()\n    \nwith open(dir + \"val_edges.pkl\", \"rb\") as pk:\n    unpickler \u003d pickle.Unpickler(pk)\n    val_edges \u003d unpickler.load()\n    \nwith open(dir + \"test_edges.pkl\", \"rb\") as pk:\n    unpickler \u003d pickle.Unpickler(pk)\n    test_edges \u003d unpickler.load()\n    \nwith open(dir + \"test_edges_false.pkl\", \"rb\") as pk:\n    unpickler \u003d pickle.Unpickler(pk)\n    test_edges_false \u003d unpickler.load()\n    \nwith open(dir + \"val_edges_false.pkl\", \"rb\") as pk:\n    unpickler \u003d pickle.Unpickler(pk)\n    val_edges_false \u003d unpickler.load()\n    ",
      "metadata": {
        "pycharm": {
          "metadata": false,
          "name": "#%%\n",
          "is_executing": false
        }
      }
    },
    {
      "cell_type": "markdown",
      "source": "## Mini-batch analysis",
      "metadata": {
        "pycharm": {
          "metadata": false,
          "name": "#%% md\n"
        }
      }
    },
    {
      "cell_type": "code",
      "execution_count": 19,
      "outputs": [
        {
          "name": "stdout",
          "text": [
            "edge number:  [11142, 1013, 1084, 1176, 1021, 148, 11142, 1013, 1084, 1176, 1021, 148]\ntrain edge number:  [6686, 609, 652, 706, 613, 48, 6686, 609, 652, 706, 613, 48]\ntest edge number:  [2228, 202, 216, 235, 204, 50, 2228, 202, 216, 235, 204, 50]\ntest edge false number:  [2228, 202, 216, 235, 204, 50, 2228, 202, 216, 235, 204, 50]\nval edge number:  [2228, 202, 216, 235, 204, 50, 2228, 202, 216, 235, 204, 50]\nval edge false number:  [2228, 202, 216, 235, 204, 50, 2228, 202, 216, 235, 204, 50]\n"
          ],
          "output_type": "stream"
        }
      ],
      "source": "edge_num \u003d [decagon.adj_mats_orig[(1, 1)][i].nnz for i in range(12)]\ntrain_edge_num \u003d [train_edges[(1, 1)][i].shape[0] for i in range(12)]\ntest_edges_num \u003d [test_edges[(1, 1)][i].shape[0] for i in range(12)]\ntest_edges_false_num \u003d [test_edges_false[(1, 1)][i].shape[0] for i in range(12)]\nval_edges_num \u003d [val_edges[(1, 1)][i].shape[0] for i in range(12)]\nval_edges_false_num \u003d [val_edges_false[(1, 1)][i].shape[0] for i in range(12)]\n\nprint(\"edge number: \", edge_num)\nprint(\"train edge number: \", train_edge_num)\nprint(\"test edge number: \", test_edges_num)\nprint(\"test edge false number: \", test_edges_false_num)\nprint(\"val edge number: \", val_edges_num)\nprint(\"val edge false number: \", val_edges_false_num)\n\n",
      "metadata": {
        "pycharm": {
          "metadata": false,
          "name": "#%%\n",
          "is_executing": false
        }
      }
    }
  ],
  "metadata": {
    "kernelspec": {
      "name": "pycharm-2dc171ac",
      "language": "python",
      "display_name": "PyCharm (PJ_GCN)"
    },
    "language_info": {
      "codemirror_mode": {
        "name": "ipython",
        "version": 2
      },
      "file_extension": ".py",
      "mimetype": "text/x-python",
      "name": "python",
      "nbconvert_exporter": "python",
      "pygments_lexer": "ipython2",
      "version": "2.7.6"
    }
  },
  "nbformat": 4,
  "nbformat_minor": 0
}